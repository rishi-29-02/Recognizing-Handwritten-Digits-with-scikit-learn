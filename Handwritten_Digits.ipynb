{
  "nbformat": 4,
  "nbformat_minor": 0,
  "metadata": {
    "colab": {
      "name": "Handwritten Digits.ipynb",
      "provenance": [],
      "collapsed_sections": [],
      "authorship_tag": "ABX9TyM+TnQdmoHKSZch1d0EHSoN",
      "include_colab_link": true
    },
    "kernelspec": {
      "name": "python3",
      "display_name": "Python 3"
    }
  },
  "cells": [
    {
      "cell_type": "markdown",
      "metadata": {
        "id": "view-in-github",
        "colab_type": "text"
      },
      "source": [
        "<a href=\"https://colab.research.google.com/github/rishi-29-02/Recognizing-Handwritten-Digits-with-scikit-learn/blob/main/Handwritten_Digits.ipynb\" target=\"_parent\"><img src=\"https://colab.research.google.com/assets/colab-badge.svg\" alt=\"Open In Colab\"/></a>"
      ]
    },
    {
      "cell_type": "markdown",
      "metadata": {
        "id": "Y9YE51u8Igw2"
      },
      "source": [
        "#Recognizing Handwritten Digits with scikit-learn"
      ]
    },
    {
      "cell_type": "code",
      "metadata": {
        "id": "3Eo8Q-TkE6qv"
      },
      "source": [
        "from sklearn.datasets import load_digits\n",
        "import matplotlib.pyplot as plt\n",
        "from sklearn.svm import SVC\n",
        "from sklearn.model_selection import train_test_split\n",
        "from sklearn.metrics import mean_absolute_error\n",
        "from sklearn.metrics import confusion_matrix, classification_report"
      ],
      "execution_count": 107,
      "outputs": []
    },
    {
      "cell_type": "code",
      "metadata": {
        "id": "6qfvoZkMFJYw"
      },
      "source": [
        "digits = load_digits()"
      ],
      "execution_count": 108,
      "outputs": []
    },
    {
      "cell_type": "code",
      "metadata": {
        "colab": {
          "base_uri": "https://localhost:8080/"
        },
        "id": "hagO8SbXFiaL",
        "outputId": "a64d3449-2331-49cc-ecf4-c3351487c65d"
      },
      "source": [
        "digits.data.shape"
      ],
      "execution_count": 109,
      "outputs": [
        {
          "output_type": "execute_result",
          "data": {
            "text/plain": [
              "(1797, 64)"
            ]
          },
          "metadata": {
            "tags": []
          },
          "execution_count": 109
        }
      ]
    },
    {
      "cell_type": "code",
      "metadata": {
        "colab": {
          "base_uri": "https://localhost:8080/"
        },
        "id": "ncR5dWjJHP2t",
        "outputId": "21aef133-e2de-4ff5-918a-49c7419130f8"
      },
      "source": [
        "digits.data"
      ],
      "execution_count": 110,
      "outputs": [
        {
          "output_type": "execute_result",
          "data": {
            "text/plain": [
              "array([[ 0.,  0.,  5., ...,  0.,  0.,  0.],\n",
              "       [ 0.,  0.,  0., ..., 10.,  0.,  0.],\n",
              "       [ 0.,  0.,  0., ..., 16.,  9.,  0.],\n",
              "       ...,\n",
              "       [ 0.,  0.,  1., ...,  6.,  0.,  0.],\n",
              "       [ 0.,  0.,  2., ..., 12.,  0.,  0.],\n",
              "       [ 0.,  0., 10., ..., 12.,  1.,  0.]])"
            ]
          },
          "metadata": {
            "tags": []
          },
          "execution_count": 110
        }
      ]
    },
    {
      "cell_type": "code",
      "metadata": {
        "colab": {
          "base_uri": "https://localhost:8080/"
        },
        "id": "qCt1DL66Iq4i",
        "outputId": "3744b921-ffbe-4fa4-be78-399b6efb104c"
      },
      "source": [
        "digits.target"
      ],
      "execution_count": 111,
      "outputs": [
        {
          "output_type": "execute_result",
          "data": {
            "text/plain": [
              "array([0, 1, 2, ..., 8, 9, 8])"
            ]
          },
          "metadata": {
            "tags": []
          },
          "execution_count": 111
        }
      ]
    },
    {
      "cell_type": "code",
      "metadata": {
        "colab": {
          "base_uri": "https://localhost:8080/"
        },
        "id": "aFr4tzHoVwZV",
        "outputId": "d8ee6e4c-bf63-4796-91e5-ebee4169e2b3"
      },
      "source": [
        "digits.target.shape"
      ],
      "execution_count": 112,
      "outputs": [
        {
          "output_type": "execute_result",
          "data": {
            "text/plain": [
              "(1797,)"
            ]
          },
          "metadata": {
            "tags": []
          },
          "execution_count": 112
        }
      ]
    },
    {
      "cell_type": "markdown",
      "metadata": {
        "id": "Dvd0ofwrbQ9n"
      },
      "source": [
        "Let us print some digits images."
      ]
    },
    {
      "cell_type": "code",
      "metadata": {
        "id": "LhK17zOdIujR",
        "colab": {
          "base_uri": "https://localhost:8080/",
          "height": 1000
        },
        "outputId": "92b286a5-3cba-429c-996f-df7692c6a5ac"
      },
      "source": [
        "for i in range(5):\n",
        "  plt.imshow(digits.images[i])\n",
        "  plt.show()"
      ],
      "execution_count": 113,
      "outputs": [
        {
          "output_type": "display_data",
          "data": {
            "image/png": "[encoded data removed]",
            "text/plain": [
              "<Figure size 432x288 with 1 Axes>"
            ]
          },
          "metadata": {
            "tags": [],
            "needs_background": "light"
          }
        },
        {
          "output_type": "display_data",
          "data": {
            "image/png": "[encoded data removed]",
            "text/plain": [
              "<Figure size 432x288 with 1 Axes>"
            ]
          },
          "metadata": {
            "tags": [],
            "needs_background": "light"
          }
        },
        {
          "output_type": "display_data",
          "data": {
            "image/png": "[encoded data removed]",
            "text/plain": [
              "<Figure size 432x288 with 1 Axes>"
            ]
          },
          "metadata": {
            "tags": [],
            "needs_background": "light"
          }
        },
        {
          "output_type": "display_data",
          "data": {
            "image/png": "[encoded data removed]",
            "text/plain": [
              "<Figure size 432x288 with 1 Axes>"
            ]
          },
          "metadata": {
            "tags": [],
            "needs_background": "light"
          }
        },
        {
          "output_type": "display_data",
          "data": {
            "image/png": "[encoded data removed]",
            "text/plain": [
              "<Figure size 432x288 with 1 Axes>"
            ]
          },
          "metadata": {
            "tags": [],
            "needs_background": "light"
          }
        }
      ]
    },
    {
      "cell_type": "code",
      "metadata": {
        "colab": {
          "base_uri": "https://localhost:8080/"
        },
        "id": "_hUzryw-Ubai",
        "outputId": "8ced416f-7297-4bc7-c2ca-0c15ec2ec2e4"
      },
      "source": [
        "digits.images[0]"
      ],
      "execution_count": 114,
      "outputs": [
        {
          "output_type": "execute_result",
          "data": {
            "text/plain": [
              "array([[ 0.,  0.,  5., 13.,  9.,  1.,  0.,  0.],\n",
              "       [ 0.,  0., 13., 15., 10., 15.,  5.,  0.],\n",
              "       [ 0.,  3., 15.,  2.,  0., 11.,  8.,  0.],\n",
              "       [ 0.,  4., 12.,  0.,  0.,  8.,  8.,  0.],\n",
              "       [ 0.,  5.,  8.,  0.,  0.,  9.,  8.,  0.],\n",
              "       [ 0.,  4., 11.,  0.,  1., 12.,  7.,  0.],\n",
              "       [ 0.,  2., 14.,  5., 10., 12.,  0.,  0.],\n",
              "       [ 0.,  0.,  6., 13., 10.,  0.,  0.,  0.]])"
            ]
          },
          "metadata": {
            "tags": []
          },
          "execution_count": 114
        }
      ]
    },
    {
      "cell_type": "markdown",
      "metadata": {
        "id": "HRmifmbxy45E"
      },
      "source": [
        "##Case : 1"
      ]
    },
    {
      "cell_type": "markdown",
      "metadata": {
        "id": "eBJNSFiRVQYF"
      },
      "source": [
        "Split the dataset"
      ]
    },
    {
      "cell_type": "code",
      "metadata": {
        "id": "ttjPNZRFbptb"
      },
      "source": [
        "x_train, x_test, y_train, y_test = train_test_split(digits.data, digits.target, test_size=0.33, random_state=7) "
      ],
      "execution_count": 115,
      "outputs": []
    },
    {
      "cell_type": "markdown",
      "metadata": {
        "id": "ovBr5HbBcJpc"
      },
      "source": [
        "Train the model"
      ]
    },
    {
      "cell_type": "code",
      "metadata": {
        "colab": {
          "base_uri": "https://localhost:8080/"
        },
        "id": "9eTmL1prcNYe",
        "outputId": "5e4df9f7-2a29-4bf9-b619-d5792cecd76a"
      },
      "source": [
        "svm = SVC()\n",
        "svm.fit(x_train, y_train)"
      ],
      "execution_count": 116,
      "outputs": [
        {
          "output_type": "execute_result",
          "data": {
            "text/plain": [
              "SVC(C=1.0, break_ties=False, cache_size=200, class_weight=None, coef0=0.0,\n",
              "    decision_function_shape='ovr', degree=3, gamma='scale', kernel='rbf',\n",
              "    max_iter=-1, probability=False, random_state=None, shrinking=True,\n",
              "    tol=0.001, verbose=False)"
            ]
          },
          "metadata": {
            "tags": []
          },
          "execution_count": 116
        }
      ]
    },
    {
      "cell_type": "code",
      "metadata": {
        "colab": {
          "base_uri": "https://localhost:8080/"
        },
        "id": "UsDe92ZfcTOe",
        "outputId": "202af332-8c46-4542-bb47-dc91f519ae55"
      },
      "source": [
        "predictions = svm.predict(x_test)\n",
        "accuracy = svm.score(x_test, y_test)\n",
        "accuracy"
      ],
      "execution_count": 117,
      "outputs": [
        {
          "output_type": "execute_result",
          "data": {
            "text/plain": [
              "0.9915824915824916"
            ]
          },
          "metadata": {
            "tags": []
          },
          "execution_count": 117
        }
      ]
    },
    {
      "cell_type": "code",
      "metadata": {
        "colab": {
          "base_uri": "https://localhost:8080/"
        },
        "id": "RVfCg4ZKc8Lc",
        "outputId": "f992a435-d0e2-4b57-e85f-a573b880603b"
      },
      "source": [
        "print(confusion_matrix(y_test, predictions))\n",
        "print(classification_report(y_test, predictions))"
      ],
      "execution_count": 118,
      "outputs": [
        {
          "output_type": "stream",
          "text": [
            "[[63  0  0  0  0  0  0  0  0  0]\n",
            " [ 0 57  0  0  0  0  0  0  0  0]\n",
            " [ 0  0 57  0  0  0  0  0  0  0]\n",
            " [ 0  0  0 56  0  1  0  0  0  0]\n",
            " [ 0  0  0  0 64  0  0  0  0  0]\n",
            " [ 0  0  0  0  0 51  0  0  0  0]\n",
            " [ 0  0  0  0  0  0 56  0  0  0]\n",
            " [ 0  0  0  0  0  0  0 58  0  0]\n",
            " [ 0  2  0  0  0  0  0  1 66  0]\n",
            " [ 0  0  0  0  0  1  0  0  0 61]]\n",
            "              precision    recall  f1-score   support\n",
            "\n",
            "           0       1.00      1.00      1.00        63\n",
            "           1       0.97      1.00      0.98        57\n",
            "           2       1.00      1.00      1.00        57\n",
            "           3       1.00      0.98      0.99        57\n",
            "           4       1.00      1.00      1.00        64\n",
            "           5       0.96      1.00      0.98        51\n",
            "           6       1.00      1.00      1.00        56\n",
            "           7       0.98      1.00      0.99        58\n",
            "           8       1.00      0.96      0.98        69\n",
            "           9       1.00      0.98      0.99        62\n",
            "\n",
            "    accuracy                           0.99       594\n",
            "   macro avg       0.99      0.99      0.99       594\n",
            "weighted avg       0.99      0.99      0.99       594\n",
            "\n"
          ],
          "name": "stdout"
        }
      ]
    },
    {
      "cell_type": "markdown",
      "metadata": {
        "id": "_px3tZutzhfB"
      },
      "source": [
        "## Case : 2"
      ]
    },
    {
      "cell_type": "markdown",
      "metadata": {
        "id": "GQBTqREXz_dV"
      },
      "source": [
        "Split the dataset"
      ]
    },
    {
      "cell_type": "code",
      "metadata": {
        "id": "qdMzOJXGz_dW"
      },
      "source": [
        "x_train, x_test, y_train, y_test = train_test_split(digits.data, digits.target, test_size=0.20, random_state=7) "
      ],
      "execution_count": 119,
      "outputs": []
    },
    {
      "cell_type": "markdown",
      "metadata": {
        "id": "PRbSmw26z_dX"
      },
      "source": [
        "Train the model"
      ]
    },
    {
      "cell_type": "code",
      "metadata": {
        "colab": {
          "base_uri": "https://localhost:8080/"
        },
        "id": "S9MFj5w5z_dX",
        "outputId": "4da27f5b-7574-43bc-9561-db2bd6223c7a"
      },
      "source": [
        "svm = SVC(gamma=0.0001)\n",
        "svm.fit(x_train, y_train)"
      ],
      "execution_count": 120,
      "outputs": [
        {
          "output_type": "execute_result",
          "data": {
            "text/plain": [
              "SVC(C=1.0, break_ties=False, cache_size=200, class_weight=None, coef0=0.0,\n",
              "    decision_function_shape='ovr', degree=3, gamma=0.0001, kernel='rbf',\n",
              "    max_iter=-1, probability=False, random_state=None, shrinking=True,\n",
              "    tol=0.001, verbose=False)"
            ]
          },
          "metadata": {
            "tags": []
          },
          "execution_count": 120
        }
      ]
    },
    {
      "cell_type": "code",
      "metadata": {
        "colab": {
          "base_uri": "https://localhost:8080/"
        },
        "id": "y10rVDwVz_dZ",
        "outputId": "a6a0bf43-31a3-4461-91fe-a88312116d31"
      },
      "source": [
        "predictions = svm.predict(x_test)\n",
        "accuracy = svm.score(x_test, y_test)\n",
        "accuracy"
      ],
      "execution_count": 121,
      "outputs": [
        {
          "output_type": "execute_result",
          "data": {
            "text/plain": [
              "0.975"
            ]
          },
          "metadata": {
            "tags": []
          },
          "execution_count": 121
        }
      ]
    },
    {
      "cell_type": "code",
      "metadata": {
        "colab": {
          "base_uri": "https://localhost:8080/"
        },
        "id": "UNNpZE6Tz_da",
        "outputId": "162e90e3-fd9d-4510-fb5b-724ebb93eb52"
      },
      "source": [
        "print(confusion_matrix(y_test, predictions))\n",
        "print(classification_report(y_test, predictions))"
      ],
      "execution_count": 122,
      "outputs": [
        {
          "output_type": "stream",
          "text": [
            "[[43  0  0  0  0  0  0  0  0  0]\n",
            " [ 0 41  0  0  0  0  0  0  0  1]\n",
            " [ 0  1 39  0  0  0  0  0  0  0]\n",
            " [ 0  0  0 34  0  0  0  0  0  0]\n",
            " [ 0  0  0  0 37  0  0  0  0  0]\n",
            " [ 0  0  0  0  0 28  0  0  0  0]\n",
            " [ 0  1  0  0  0  0 27  0  0  0]\n",
            " [ 0  0  0  0  0  0  0 33  0  0]\n",
            " [ 0  2  0  0  0  0  0  1 40  0]\n",
            " [ 0  0  0  0  0  2  0  1  0 29]]\n",
            "              precision    recall  f1-score   support\n",
            "\n",
            "           0       1.00      1.00      1.00        43\n",
            "           1       0.91      0.98      0.94        42\n",
            "           2       1.00      0.97      0.99        40\n",
            "           3       1.00      1.00      1.00        34\n",
            "           4       1.00      1.00      1.00        37\n",
            "           5       0.93      1.00      0.97        28\n",
            "           6       1.00      0.96      0.98        28\n",
            "           7       0.94      1.00      0.97        33\n",
            "           8       1.00      0.93      0.96        43\n",
            "           9       0.97      0.91      0.94        32\n",
            "\n",
            "    accuracy                           0.97       360\n",
            "   macro avg       0.98      0.98      0.97       360\n",
            "weighted avg       0.98      0.97      0.98       360\n",
            "\n"
          ],
          "name": "stdout"
        }
      ]
    },
    {
      "cell_type": "code",
      "metadata": {
        "id": "if8tzUSg2piM"
      },
      "source": [
        ""
      ],
      "execution_count": 122,
      "outputs": []
    },
    {
      "cell_type": "markdown",
      "metadata": {
        "id": "oreTUdGQ2qUK"
      },
      "source": [
        "##Case : 3"
      ]
    },
    {
      "cell_type": "markdown",
      "metadata": {
        "id": "gwBKR35A2qUN"
      },
      "source": [
        "Split the dataset"
      ]
    },
    {
      "cell_type": "code",
      "metadata": {
        "id": "qTd9c9592qUO"
      },
      "source": [
        "x_train, x_test, y_train, y_test = train_test_split(digits.data, digits.target, test_size=0.27, random_state=7) "
      ],
      "execution_count": 123,
      "outputs": []
    },
    {
      "cell_type": "markdown",
      "metadata": {
        "id": "4Fe67g-r2qUP"
      },
      "source": [
        "Train the model"
      ]
    },
    {
      "cell_type": "code",
      "metadata": {
        "colab": {
          "base_uri": "https://localhost:8080/"
        },
        "id": "rM6UklAQ2qUR",
        "outputId": "cf7ae9bf-cd04-42b0-b315-ba4ae492750e"
      },
      "source": [
        "svm = SVC(C=2.0)\n",
        "svm.fit(x_train, y_train)"
      ],
      "execution_count": 124,
      "outputs": [
        {
          "output_type": "execute_result",
          "data": {
            "text/plain": [
              "SVC(C=2.0, break_ties=False, cache_size=200, class_weight=None, coef0=0.0,\n",
              "    decision_function_shape='ovr', degree=3, gamma='scale', kernel='rbf',\n",
              "    max_iter=-1, probability=False, random_state=None, shrinking=True,\n",
              "    tol=0.001, verbose=False)"
            ]
          },
          "metadata": {
            "tags": []
          },
          "execution_count": 124
        }
      ]
    },
    {
      "cell_type": "code",
      "metadata": {
        "colab": {
          "base_uri": "https://localhost:8080/"
        },
        "id": "nwyRGIu-2qUT",
        "outputId": "08e752d1-7c43-4b9e-875c-9bbaabdd7174"
      },
      "source": [
        "predictions = svm.predict(x_test)\n",
        "accuracy = svm.score(x_test, y_test)\n",
        "accuracy"
      ],
      "execution_count": 125,
      "outputs": [
        {
          "output_type": "execute_result",
          "data": {
            "text/plain": [
              "0.9897119341563786"
            ]
          },
          "metadata": {
            "tags": []
          },
          "execution_count": 125
        }
      ]
    },
    {
      "cell_type": "code",
      "metadata": {
        "colab": {
          "base_uri": "https://localhost:8080/"
        },
        "id": "6v9mc0H72qUU",
        "outputId": "82fbc312-ee43-4583-93da-2e45165c20b4"
      },
      "source": [
        "print(confusion_matrix(y_test, predictions))\n",
        "print(classification_report(y_test, predictions))"
      ],
      "execution_count": 126,
      "outputs": [
        {
          "output_type": "stream",
          "text": [
            "[[55  0  0  0  0  0  0  0  0  0]\n",
            " [ 0 50  0  0  0  0  0  0  0  0]\n",
            " [ 0  0 49  0  0  0  0  0  0  0]\n",
            " [ 0  0  0 47  0  0  0  0  0  0]\n",
            " [ 0  0  0  0 52  0  0  0  0  0]\n",
            " [ 0  0  0  0  0 41  0  0  0  0]\n",
            " [ 0  0  0  0  0  0 42  0  0  0]\n",
            " [ 0  0  0  0  0  0  0 45  0  0]\n",
            " [ 0  2  0  0  0  1  0  1 51  0]\n",
            " [ 0  0  0  0  0  1  0  0  0 49]]\n",
            "              precision    recall  f1-score   support\n",
            "\n",
            "           0       1.00      1.00      1.00        55\n",
            "           1       0.96      1.00      0.98        50\n",
            "           2       1.00      1.00      1.00        49\n",
            "           3       1.00      1.00      1.00        47\n",
            "           4       1.00      1.00      1.00        52\n",
            "           5       0.95      1.00      0.98        41\n",
            "           6       1.00      1.00      1.00        42\n",
            "           7       0.98      1.00      0.99        45\n",
            "           8       1.00      0.93      0.96        55\n",
            "           9       1.00      0.98      0.99        50\n",
            "\n",
            "    accuracy                           0.99       486\n",
            "   macro avg       0.99      0.99      0.99       486\n",
            "weighted avg       0.99      0.99      0.99       486\n",
            "\n"
          ],
          "name": "stdout"
        }
      ]
    }
  ]
}